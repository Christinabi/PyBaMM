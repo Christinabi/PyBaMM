{
 "cells": [
  {
   "cell_type": "markdown",
   "metadata": {},
   "source": [
    "# \"2+1D\" Pouch Cell Model\n",
    "\n",
    "In this notebook we show how you can use PyBaMM to solve a \"2+1D\" pouch cell model. By \"2+1D\" we mean that the pouch cell is modelled by considering a number of 1+1D (pseudo-two-dimensional) models for the through-cell electrochemical behaviour coupled via a 2D model for the electrical behaviour in the current collectors. We also include thermal effects in the model, under the assumption that the temperature is uniform across the cell thickness (which is small compared with the remaining two dimensions). This results in a 2D model the thermal behaviour of cell. The model is fully-coupled, in the sense that the electrochimical behaviour (inclduding the parameters) depends on the temperature."
   ]
  },
  {
   "cell_type": "markdown",
   "metadata": {},
   "source": [
    "## Example solving a pouch cell model using PyBaMM\n",
    "\n",
    "Below we show how to change the model options to solve a pouch cell model in PyBaMM.\n",
    "\n",
    "First we need to import `pybamm` and the other packages we will use in this notebook, and then change our working directory to the root of the pybamm folder. "
   ]
  },
  {
   "cell_type": "code",
   "execution_count": 2,
   "metadata": {},
   "outputs": [],
   "source": [
    "import pybamm\n",
    "import numpy as np\n",
    "import os\n",
    "import matplotlib.pyplot as plt\n",
    "os.chdir(pybamm.__path__[0]+'/..')"
   ]
  },
  {
   "cell_type": "markdown",
   "metadata": {},
   "source": [
    "We then need to choose our model and set the appropriate options. The flexibility of PyBaMM allows you to choose any battery model to describe the through cell behaviour. Here we choose the SPM, in the interest of simplicity. \n",
    "\n",
    "In order to turn the model into a pouch cell model we pass options telling PyBaMM which current collector model to use and what dimension the current current collector model should take. We choose the \"potential pair\" model and set the \"dimensionality\" to 2, since we want a \"2+1D\" model. \n",
    "\n",
    "Additionally, we set the thermal model to \"x-lumped\" to reflect our model assumption that the temperature doesn't vary in the through-cell direction $x$."
   ]
  },
  {
   "cell_type": "code",
   "execution_count": 3,
   "metadata": {},
   "outputs": [],
   "source": [
    "# load (2+1D) SPM model\n",
    "options = {\n",
    "    \"current collector\": \"potential pair\",\n",
    "    \"dimensionality\": 2,\n",
    "    \"thermal\": \"x-lumped\",\n",
    "}\n",
    "model = pybamm.lithium_ion.SPM(options)"
   ]
  },
  {
   "cell_type": "markdown",
   "metadata": {},
   "source": [
    "We then use the default model geometry and parameters. Information about the cell geometry and tab location is stored in the parameter file."
   ]
  },
  {
   "cell_type": "code",
   "execution_count": 4,
   "metadata": {},
   "outputs": [],
   "source": [
    "# create geometry\n",
    "geometry = model.default_geometry\n",
    "\n",
    "# load parameter values and process model and geometry\n",
    "param = model.default_parameter_values\n",
    "param.process_model(model)\n",
    "param.process_geometry(geometry)"
   ]
  },
  {
   "cell_type": "markdown",
   "metadata": {},
   "source": [
    "We then set the mesh and discretise the model. In this notebook we use a relatively coarse mesh, just to illustrate how to set up the problem. You can experiment with the number of grid points. For large systems we recommend using a sparse solver (see the instructions for installing SUNDIALS with KLU sparse solver [here](https://github.com/pybamm-team/PyBaMM/blob/master/INSTALL-LINUX.md))."
   ]
  },
  {
   "cell_type": "code",
   "execution_count": 5,
   "metadata": {},
   "outputs": [
    {
     "data": {
      "text/plain": [
       "<pybamm.models.full_battery_models.lithium_ion.spm.SPM at 0x7fe5b4c13f28>"
      ]
     },
     "execution_count": 5,
     "metadata": {},
     "output_type": "execute_result"
    }
   ],
   "source": [
    "# choose number of grid points per domain\n",
    "var = pybamm.standard_spatial_vars\n",
    "var_pts = {\n",
    "    var.x_n: 5,\n",
    "    var.x_s: 5,\n",
    "    var.x_p: 5,\n",
    "    var.r_n: 5,\n",
    "    var.r_p: 5,\n",
    "    var.y: 5,\n",
    "    var.z: 5,\n",
    "}\n",
    "# set mesh\n",
    "mesh = pybamm.Mesh(geometry, model.default_submesh_types, var_pts)\n",
    "\n",
    "# discretise model\n",
    "disc = pybamm.Discretisation(mesh, model.default_spatial_methods)\n",
    "disc.process_model(model)"
   ]
  },
  {
   "cell_type": "markdown",
   "metadata": {},
   "source": [
    "We can now solve the model in the usual way"
   ]
  },
  {
   "cell_type": "code",
   "execution_count": 7,
   "metadata": {},
   "outputs": [],
   "source": [
    "# solve model -- simulate one hour discharge\n",
    "tau = param.evaluate(pybamm.standard_parameters_lithium_ion.tau_discharge)\n",
    "t_end = 3600 / tau\n",
    "t_eval = np.linspace(0, t_end, 120)\n",
    "solution = pybamm.IDAKLUSolver().solve(model, t_eval)"
   ]
  },
  {
   "cell_type": "code",
   "execution_count": null,
   "metadata": {},
   "outputs": [],
   "source": []
  }
 ],
 "metadata": {
  "kernelspec": {
   "display_name": "Python 3",
   "language": "python",
   "name": "python3"
  },
  "language_info": {
   "codemirror_mode": {
    "name": "ipython",
    "version": 3
   },
   "file_extension": ".py",
   "mimetype": "text/x-python",
   "name": "python",
   "nbconvert_exporter": "python",
   "pygments_lexer": "ipython3",
   "version": "3.6.8"
  }
 },
 "nbformat": 4,
 "nbformat_minor": 2
}
