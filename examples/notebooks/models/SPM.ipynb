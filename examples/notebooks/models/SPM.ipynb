{
 "cells": [
  {
   "cell_type": "markdown",
   "metadata": {},
   "source": [
    "# Single Particle Model (SPM) "
   ]
  },
  {
   "cell_type": "markdown",
   "metadata": {},
   "source": [
    "## Model Equations"
   ]
  },
  {
   "cell_type": "markdown",
   "metadata": {},
   "source": [
    "The SPM consists of two spherically symmetric diffusion equations: one within a representative negative particle ($\\text{k}=\\text{n}$) and one within a representative positive particle ($\\text{k}=\\text{p}$). In the centre of the particle the classical no-flux condition is imposed. Since the SPM assumes that all particles in an electrode behave in exactly the same way, the flux on the surface of a particle is simply the current $I$ divided by the thickness of the electrode $L_{\\text{k}}$. The concentration of lithium in electrode $\\text{k}$ is denoted $c_{\\text{k}}$ and the current is denoted by $I$. All parameters in the model stated here are dimensionless and are given in terms of dimensional parameters at the end of this notebook. The model equations for the SPM are then: \n",
    "\\begin{align}\n",
    "\\mathcal{C}_{\\text{k}} \\frac{\\partial c_{\\text{s,k}}}{\\partial t} &= -\\frac{1}{r_{\\text{k}}^2} \\frac{\\partial}{\\partial r_{\\text{k}}} \\left(r_{\\text{k}}^2 N_{\\text{s,k}}\\right), \\\\\n",
    "N_{\\text{s,k}} &= -D_{\\text{s,k}}(c_{\\text{s,k}}) \\frac{\\partial c_{\\text{s,k}}}{\\partial r_{\\text{k}}}, \\quad \\text{k} \\in \\text{n, p}, \\end{align}\n",
    "$$\n",
    "N_{\\text{s,k}}\\big|_{r_{\\text{k}}=0} = 0, \\quad \\text{k} \\in \\text{n, p}, \\quad \\ \\ - \\frac{a_{\\text{k}}\\gamma_{\\text{k}}}{\\mathcal{C}_{\\text{k}}} N_{\\text{s,k}}\\big|_{r_{\\text{k}}=1} = \n",
    "\\begin{cases}\n",
    "\t\t  \\frac{I}{L_{\\text{n}}}, \\quad &\\text{k}=\\text{n}, \\\\ \n",
    "\t\t  -\\frac{I}{L_{\\text{p}}}, \\quad &\\text{k}=\\text{p}, \n",
    "\\end{cases} \\\\\n",
    "c_{\\text{s,k}}(r_{\\text{k}},0) = c_{\\text{s,k,0}}, \\quad \\text{k} \\in \\text{n, p},$$\n",
    "where $D_{\\text{s,k}}$ is the diffusion coefficient in the solid, $N_{\\text{s,k}}$ denotes the flux of lithium ions in the solid particle within the region $\\text{k}$, and $r_{\\text{k}} \\in[0,1]$ is the radial coordinate of the particle in electrode $\\text{k}$. \n",
    "\n",
    "### Voltage Expression\n",
    "The terminal voltage is obtained from the expression: \n",
    "$$\n",
    "V = U_{\\text{p}}(c_{\\text{p}})\\big|_{r_{\\text{p}}=1} - U_{\\text{n}}(c_{\\text{n}})\\big|_{r_{\\text{n}}=1} -2\\sinh^{-1}\\left(\\frac{I}{j_{\\text{0,p}} L_{\\text{p}}}\\right) - 2\\sinh^{-1}\\left(\\frac{I}{j_{\\text{0,n}} L_{\\text{n}}}\\right)\n",
    "$$\n",
    "with the exchange current densities given by\n",
    "$$j_{\\text{0,k}} =  \\frac{\\gamma_{\\text{k}}}{\\mathcal{C}_{\\text{r,k}}}(c_{\\text{k}})^{1/2}(1-c_{\\text{k}})^{1/2}  $$"
   ]
  },
  {
   "cell_type": "markdown",
   "metadata": {},
   "source": [
    "## Example solving SPM using PyBaMM\n",
    "\n",
    "Below we show how to solve the SPM model, using the default geometry, mesh, paramters, discretisation and solver provided with PyBaMM.\n",
    "\n",
    "First we need to import `pybamm`, and then change our working directory to the root of the pybamm folder. "
   ]
  },
  {
   "cell_type": "code",
   "execution_count": 1,
   "metadata": {},
   "outputs": [],
   "source": [
    "import pybamm\n",
    "import numpy as np\n",
    "import os\n",
    "import matplotlib.pyplot as plt\n",
    "os.chdir(pybamm.__path__[0]+'/..')"
   ]
  },
  {
   "cell_type": "markdown",
   "metadata": {},
   "source": [
    "We then get the SPM model equations:"
   ]
  },
  {
   "cell_type": "code",
   "execution_count": 2,
   "metadata": {},
   "outputs": [],
   "source": [
    "model = pybamm.lithium_ion.SPM()"
   ]
  },
  {
   "cell_type": "markdown",
   "metadata": {},
   "source": [
    "The model object is a subtype of [`pybamm.BaseModel`](https://pybamm.readthedocs.io/en/latest/source/models/base_model.html), and contains all the equations that define this particular model. For example, the `rhs` dict contained in `model` has a dictionary mapping variables such as $c_n$ to the equation representing its rate of change with time (i.e. $\\partial{c_n}/\\partial{t}$). We can see this explicitly by visualising this entry in the `rhs` dict:"
   ]
  },
  {
   "cell_type": "code",
   "execution_count": 3,
   "metadata": {},
   "outputs": [
    {
     "name": "stdout",
     "output_type": "stream",
     "text": [
      "rhs equation for variable ' X-averaged negative particle concentration ' is:\n"
     ]
    }
   ],
   "source": [
    "variable = next(iter(model.rhs.keys()))\n",
    "equation = next(iter(model.rhs.values()))\n",
    "print('rhs equation for variable \\'',variable,'\\' is:')\n",
    "path = 'examples/notebooks/models/'\n",
    "equation.visualise(path+'spm1.png')"
   ]
  },
  {
   "cell_type": "markdown",
   "metadata": {},
   "source": [
    "![](spm1.png)"
   ]
  },
  {
   "cell_type": "markdown",
   "metadata": {},
   "source": [
    "We need a geometry to define our model equations over. In pybamm this is represented by the [`pybamm.Geometry`](https://pybamm.readthedocs.io/en/latest/source/geometry/geometry.html) class. In this case we use the default geometry object defined by the model"
   ]
  },
  {
   "cell_type": "code",
   "execution_count": 4,
   "metadata": {},
   "outputs": [],
   "source": [
    "geometry = model.default_geometry"
   ]
  },
  {
   "cell_type": "markdown",
   "metadata": {},
   "source": [
    "This geometry object defines a number of geometry domains, each with its own name, spatial variables and min/max limits (the latter are represented as equations similar to the rhs equation shown above). For instance, the SPM model has the following domains:"
   ]
  },
  {
   "cell_type": "code",
   "execution_count": 5,
   "metadata": {},
   "outputs": [
    {
     "name": "stdout",
     "output_type": "stream",
     "text": [
      "SPM domains:\n",
      "1. negative electrode with variables:\n",
      "  -( 0.0 ) <= x_n <= ( Negative electrode thickness [m] / Negative electrode thickness [m] + Separator thickness [m] + Positive electrode thickness [m] )\n",
      "2. separator with variables:\n",
      "  -( Negative electrode thickness [m] / Negative electrode thickness [m] + Separator thickness [m] + Positive electrode thickness [m] ) <= x_s <= ( Negative electrode thickness [m] / Negative electrode thickness [m] + Separator thickness [m] + Positive electrode thickness [m] + Separator thickness [m] / Negative electrode thickness [m] + Separator thickness [m] + Positive electrode thickness [m] )\n",
      "3. positive electrode with variables:\n",
      "  -( Negative electrode thickness [m] / Negative electrode thickness [m] + Separator thickness [m] + Positive electrode thickness [m] + Separator thickness [m] / Negative electrode thickness [m] + Separator thickness [m] + Positive electrode thickness [m] ) <= x_p <= ( 1.0 )\n",
      "4. current collector with variables:\n",
      "z = 1.0\n",
      "5. negative particle with variables:\n",
      "  -( 0.0 ) <= r_n <= ( 1.0 )\n",
      "6. positive particle with variables:\n",
      "  -( 0.0 ) <= r_p <= ( 1.0 )\n"
     ]
    }
   ],
   "source": [
    "print('SPM domains:')\n",
    "for i, (k, v) in enumerate(geometry.items()):\n",
    "    print(str(i+1)+'.',k,'with variables:')\n",
    "    for var, rng in v['primary'].items():\n",
    "        if 'min' in rng:\n",
    "            print('  -(',rng['min'],') <=',var,'<= (',rng['max'],')')\n",
    "        else:\n",
    "            print(var, '=', rng['position'])"
   ]
  },
  {
   "cell_type": "markdown",
   "metadata": {},
   "source": [
    "Both the model equations and the geometry are defined by a set of parameters, such as $\\gamma_p$ or $L_p$. We can substitute these symbolic parameters in the model with values by using the [`pybamm.ParameterValues`](https://pybamm.readthedocs.io/en/latest/source/parameters/parameter_values.html) class, which takes either a python dictionary or CSV file with the mapping between parameter names and values. Rather than create our own instance of `pybamm.ParameterValues`, we will use the default parameter set included in the model"
   ]
  },
  {
   "cell_type": "code",
   "execution_count": 6,
   "metadata": {},
   "outputs": [],
   "source": [
    "param = model.default_parameter_values"
   ]
  },
  {
   "cell_type": "markdown",
   "metadata": {},
   "source": [
    "We can then apply this parameter set to the model and geometry"
   ]
  },
  {
   "cell_type": "code",
   "execution_count": 7,
   "metadata": {},
   "outputs": [],
   "source": [
    "param.process_model(model)\n",
    "param.process_geometry(geometry)"
   ]
  },
  {
   "cell_type": "markdown",
   "metadata": {},
   "source": [
    "The next step is to mesh the input geometry. We can do this using the [`pybamm.Mesh`](https://pybamm.readthedocs.io/en/latest/source/meshes/meshes.html) class. This class takes in the geometry of the problem, and also two dictionaries containing the type of mesh to use within each domain of the geometry (i.e. within the positive or negative electrode domains), and the number of mesh points. \n",
    "\n",
    "The default mesh types and the default number of points to use in each variable for the SPM model are:"
   ]
  },
  {
   "cell_type": "code",
   "execution_count": 8,
   "metadata": {
    "scrolled": true
   },
   "outputs": [
    {
     "name": "stdout",
     "output_type": "stream",
     "text": [
      "negative electrode is of type Generator for Uniform1DSubMesh\n",
      "separator is of type Generator for Uniform1DSubMesh\n",
      "positive electrode is of type Generator for Uniform1DSubMesh\n",
      "negative particle is of type Generator for Uniform1DSubMesh\n",
      "positive particle is of type Generator for Uniform1DSubMesh\n",
      "current collector is of type Generator for SubMesh0D\n",
      "x_n has 20 mesh points\n",
      "x_s has 20 mesh points\n",
      "x_p has 20 mesh points\n",
      "r_n has 10 mesh points\n",
      "r_p has 10 mesh points\n",
      "y has 10 mesh points\n",
      "z has 10 mesh points\n"
     ]
    }
   ],
   "source": [
    "for k, t in model.default_submesh_types.items():\n",
    "    print(k,'is of type',t.__repr__())\n",
    "for var, npts in model.default_var_pts.items():\n",
    "    print(var,'has',npts,'mesh points')"
   ]
  },
  {
   "cell_type": "markdown",
   "metadata": {},
   "source": [
    "With these defaults, we can then create our mesh of the given geometry:"
   ]
  },
  {
   "cell_type": "code",
   "execution_count": 9,
   "metadata": {},
   "outputs": [],
   "source": [
    "mesh = pybamm.Mesh(geometry, model.default_submesh_types, model.default_var_pts)"
   ]
  },
  {
   "cell_type": "markdown",
   "metadata": {},
   "source": [
    "The next step is to discretise the model equations over this mesh. We do this using the [`pybamm.Discretisation`](https://pybamm.readthedocs.io/en/latest/source/discretisations/discretisation.html) class, which takes both the mesh we have already created, and a dictionary of spatial methods to use for each geometry domain. For the case of the SPM model, we use the following defaults for the spatial discretisation methods:"
   ]
  },
  {
   "cell_type": "code",
   "execution_count": 10,
   "metadata": {},
   "outputs": [
    {
     "name": "stdout",
     "output_type": "stream",
     "text": [
      "macroscale is discretised using FiniteVolume method\n",
      "negative particle is discretised using FiniteVolume method\n",
      "positive particle is discretised using FiniteVolume method\n",
      "current collector is discretised using ZeroDimensionalMethod method\n"
     ]
    }
   ],
   "source": [
    "for k, method in model.default_spatial_methods.items():\n",
    "    print(k,'is discretised using',method.__class__.__name__,'method')"
   ]
  },
  {
   "cell_type": "markdown",
   "metadata": {},
   "source": [
    "We then create the `pybamm.Discretisation` object, and use this to discretise the model equations"
   ]
  },
  {
   "cell_type": "code",
   "execution_count": 11,
   "metadata": {},
   "outputs": [
    {
     "data": {
      "text/plain": [
       "<pybamm.models.full_battery_models.lithium_ion.spm.SPM at 0x7f7230ee96a0>"
      ]
     },
     "execution_count": 11,
     "metadata": {},
     "output_type": "execute_result"
    }
   ],
   "source": [
    "disc = pybamm.Discretisation(mesh, model.default_spatial_methods)\n",
    "disc.process_model(model)"
   ]
  },
  {
   "cell_type": "markdown",
   "metadata": {},
   "source": [
    "After this stage, all the equations in `model` have been discretised into purely linear algebra expressions that are ready to be evaluated within a time-stepping loop of a given solver. For example, the rhs expression for $\\partial{c_n}/\\partial{t}$ that we visualised above is now represented by:"
   ]
  },
  {
   "cell_type": "code",
   "execution_count": 12,
   "metadata": {},
   "outputs": [],
   "source": [
    "model.concatenated_rhs.children[0].visualise(path+'spm2.png')"
   ]
  },
  {
   "cell_type": "markdown",
   "metadata": {},
   "source": [
    "![](spm2.png)\n",
    "\n",
    "Now we are ready to run the time-stepping loop to solve the model. Once again we use the default ODE solver like so:"
   ]
  },
  {
   "cell_type": "code",
   "execution_count": 13,
   "metadata": {},
   "outputs": [
    {
     "name": "stdout",
     "output_type": "stream",
     "text": [
      "Solving using ScipySolver solver...\n",
      "Finished.\n"
     ]
    },
    {
     "name": "stderr",
     "output_type": "stream",
     "text": [
      "/home/scott/Projects/PyBaMM/venv/lib/python3.7/site-packages/scipy/integrate/_ivp/ivp.py:146: RuntimeWarning: invalid value encountered in greater_equal\n",
      "  up = (g <= 0) & (g_new >= 0)\n",
      "/home/scott/Projects/PyBaMM/venv/lib/python3.7/site-packages/scipy/integrate/_ivp/ivp.py:147: RuntimeWarning: invalid value encountered in less_equal\n",
      "  down = (g >= 0) & (g_new <= 0)\n"
     ]
    }
   ],
   "source": [
    "# Solve the model at the given time points\n",
    "solver = model.default_solver\n",
    "n = 250\n",
    "t_eval = np.linspace(0, 1, n)\n",
    "print('Solving using',type(solver).__name__,'solver...')\n",
    "solution = solver.solve(model, t_eval)\n",
    "print('Finished.')"
   ]
  },
  {
   "cell_type": "markdown",
   "metadata": {},
   "source": [
    "Each model in pybamm has a list of relevent variables defined in the model, for use in visualising the model solution or for comparison with other models. The SPM model defines the following variables:"
   ]
  },
  {
   "cell_type": "code",
   "execution_count": 14,
   "metadata": {},
   "outputs": [
    {
     "name": "stdout",
     "output_type": "stream",
     "text": [
      "SPM model variables:\n",
      "\t- Total current density\n",
      "\t- Total current density [A.m-2]\n",
      "\t- Current [A]\n",
      "\t- Time\n",
      "\t- Time [s]\n",
      "\t- Time [min]\n",
      "\t- Time [h]\n",
      "\t- Discharge capacity [A.h]\n",
      "\t- x\n",
      "\t- x [m]\n",
      "\t- x_n\n",
      "\t- x_n [m]\n",
      "\t- x_s\n",
      "\t- x_s [m]\n",
      "\t- x_p\n",
      "\t- x_p [m]\n",
      "\t- Negative particle concentration\n",
      "\t- Positive particle concentration\n",
      "\t- Negative particle surface concentration\n",
      "\t- Positive particle surface concentration\n",
      "\t- Negative particle concentration [mol.m-3]\n",
      "\t- Positive particle concentration [mol.m-3]\n",
      "\t- Negative particle surface concentration [mol.m-3]\n",
      "\t- Positive particle surface concentration [mol.m-3]\n",
      "\t- r_n\n",
      "\t- r_n [m]\n",
      "\t- r_p\n",
      "\t- r_p [m]\n",
      "\t- Porosity\n",
      "\t- Negative electrode porosity\n",
      "\t- Separator porosity\n",
      "\t- Positive electrode porosity\n",
      "\t- X-averaged negative electrode porosity\n",
      "\t- X-averaged separator porosity\n",
      "\t- X-averaged positive electrode porosity\n",
      "\t- Leading-order negative electrode porosity\n",
      "\t- Leading-order separator porosity\n",
      "\t- Leading-order positive electrode porosity\n",
      "\t- Leading-order x-averaged negative electrode porosity\n",
      "\t- Leading-order x-averaged separator porosity\n",
      "\t- Leading-order x-averaged positive electrode porosity\n",
      "\t- Porosity change\n",
      "\t- Negative electrode porosity change\n",
      "\t- Separator porosity change\n",
      "\t- Positive electrode porosity change\n",
      "\t- X-averaged porosity change\n",
      "\t- X-averaged negative electrode porosity change\n",
      "\t- X-averaged separator porosity change\n",
      "\t- X-averaged positive electrode porosity change\n",
      "\t- Leading-order x-averaged negative electrode porosity change\n",
      "\t- Leading-order x-averaged separator porosity change\n",
      "\t- Leading-order x-averaged positive electrode porosity change\n",
      "\t- Volume-averaged velocity\n",
      "\t- Volume-averaged velocity [m.s-1]\n",
      "\t- Electrolyte pressure\n",
      "\t- X-averaged negative particle concentration\n",
      "\t- X-averaged negative particle concentration [mol.m-3]\n",
      "\t- X-averaged negative particle surface concentration\n",
      "\t- X-averaged negative particle surface concentration [mol.m-3]\n",
      "\t- Negative electrode active volume fraction\n",
      "\t- Negative electrode volume-averaged concentration\n",
      "\t- Negative electrode volume-averaged concentration [mol.m-3]\n",
      "\t- Negative electrode average extent of lithiation\n",
      "\t- X-averaged positive particle concentration\n",
      "\t- X-averaged positive particle concentration [mol.m-3]\n",
      "\t- X-averaged positive particle surface concentration\n",
      "\t- X-averaged positive particle surface concentration [mol.m-3]\n",
      "\t- Positive electrode active volume fraction\n",
      "\t- Positive electrode volume-averaged concentration\n",
      "\t- Positive electrode volume-averaged concentration [mol.m-3]\n",
      "\t- Positive electrode average extent of lithiation\n",
      "\t- Electrolyte concentration\n",
      "\t- Electrolyte concentration [mol.m-3]\n",
      "\t- Electrolyte concentration [Molar]\n",
      "\t- X-averaged electrolyte concentration\n",
      "\t- X-averaged electrolyte concentration [mol.m-3]\n",
      "\t- X-averaged electrolyte concentration [Molar]\n",
      "\t- Negative electrolyte concentration\n",
      "\t- Negative electrolyte concentration [mol.m-3]\n",
      "\t- Negative electrolyte concentration [Molar]\n",
      "\t- Separator electrolyte concentration\n",
      "\t- Separator electrolyte concentration [mol.m-3]\n",
      "\t- Separator electrolyte concentration [Molar]\n",
      "\t- Positive electrolyte concentration\n",
      "\t- Positive electrolyte concentration [mol.m-3]\n",
      "\t- Positive electrolyte concentration [Molar]\n",
      "\t- X-averaged negative electrolyte concentration\n",
      "\t- X-averaged negative electrolyte concentration [mol.m-3]\n",
      "\t- X-averaged separator electrolyte concentration\n",
      "\t- X-averaged separator electrolyte concentration [mol.m-3]\n",
      "\t- X-averaged positive electrolyte concentration\n",
      "\t- X-averaged positive electrolyte concentration [mol.m-3]\n",
      "\t- Electrolyte flux\n",
      "\t- Electrolyte flux [mol.m-2.s-1]\n",
      "\t- Negative current collector temperature\n",
      "\t- Negative current collector temperature [K]\n",
      "\t- X-averaged negative electrode temperature\n",
      "\t- X-averaged negative electrode temperature [K]\n",
      "\t- Negative electrode temperature\n",
      "\t- Negative electrode temperature [K]\n",
      "\t- X-averaged separator temperature\n",
      "\t- X-averaged separator temperature [K]\n",
      "\t- Separator temperature\n",
      "\t- Separator temperature [K]\n",
      "\t- X-averaged positive electrode temperature\n",
      "\t- X-averaged positive electrode temperature [K]\n",
      "\t- Positive electrode temperature\n",
      "\t- Positive electrode temperature [K]\n",
      "\t- Positive current collector temperature\n",
      "\t- Positive current collector temperature [K]\n",
      "\t- Cell temperature\n",
      "\t- Cell temperature [K]\n",
      "\t- X-averaged cell temperature\n",
      "\t- X-averaged cell temperature [K]\n",
      "\t- Volume-averaged cell temperature\n",
      "\t- Volume-averaged cell temperature [K]\n",
      "\t- Heat flux\n",
      "\t- Heat flux [W.m-2]\n",
      "\t- Negative current collector potential\n",
      "\t- Negative current collector potential [V]\n",
      "\t- Current collector current density\n",
      "\t- Current collector current density [A.m-2]\n",
      "\t- Leading-order current collector current density\n",
      "\t- Negative electrode interfacial current density\n",
      "\t- X-averaged negative electrode interfacial current density\n",
      "\t- Negative electrode interfacial current density [A.m-2]\n",
      "\t- X-averaged negative electrode interfacial current density [A.m-2]\n",
      "\t- Negative electrode interfacial current density per volume [A.m-3]\n",
      "\t- X-averaged negative electrode interfacial current density per volume [A.m-3]\n",
      "\t- X-averaged negative electrode total interfacial current density\n",
      "\t- X-averaged negative electrode total interfacial current density [A.m-2]\n",
      "\t- X-averaged negative electrode total interfacial current density per volume [A.m-3]\n",
      "\t- Negative electrode exchange current density\n",
      "\t- X-averaged negative electrode exchange current density\n",
      "\t- Negative electrode exchange current density [A.m-2]\n",
      "\t- X-averaged negative electrode exchange current density [A.m-2]\n",
      "\t- Negative electrode exchange current density per volume [A.m-3]\n",
      "\t- X-averaged negative electrode exchange current density per volume [A.m-3]\n",
      "\t- Negative electrode reaction overpotential\n",
      "\t- X-averaged negative electrode reaction overpotential\n",
      "\t- Negative electrode reaction overpotential [V]\n",
      "\t- X-averaged negative electrode reaction overpotential [V]\n",
      "\t- Negative electrode surface potential difference\n",
      "\t- X-averaged negative electrode surface potential difference\n",
      "\t- Negative electrode surface potential difference [V]\n",
      "\t- X-averaged negative electrode surface potential difference [V]\n",
      "\t- Negative electrode open circuit potential\n",
      "\t- Negative electrode open circuit potential [V]\n",
      "\t- X-averaged negative electrode open circuit potential\n",
      "\t- X-averaged negative electrode open circuit potential [V]\n",
      "\t- Negative electrode entropic change\n",
      "\t- X-averaged negative electrode entropic change\n",
      "\t- Positive electrode interfacial current density\n",
      "\t- X-averaged positive electrode interfacial current density\n",
      "\t- Positive electrode interfacial current density [A.m-2]\n",
      "\t- X-averaged positive electrode interfacial current density [A.m-2]\n",
      "\t- Positive electrode interfacial current density per volume [A.m-3]\n",
      "\t- X-averaged positive electrode interfacial current density per volume [A.m-3]\n",
      "\t- X-averaged positive electrode total interfacial current density\n",
      "\t- X-averaged positive electrode total interfacial current density [A.m-2]\n",
      "\t- X-averaged positive electrode total interfacial current density per volume [A.m-3]\n",
      "\t- Positive electrode exchange current density\n",
      "\t- X-averaged positive electrode exchange current density\n",
      "\t- Positive electrode exchange current density [A.m-2]\n",
      "\t- X-averaged positive electrode exchange current density [A.m-2]\n",
      "\t- Positive electrode exchange current density per volume [A.m-3]\n",
      "\t- X-averaged positive electrode exchange current density per volume [A.m-3]\n",
      "\t- Positive electrode reaction overpotential\n",
      "\t- X-averaged positive electrode reaction overpotential\n",
      "\t- Positive electrode reaction overpotential [V]\n",
      "\t- X-averaged positive electrode reaction overpotential [V]\n",
      "\t- Positive electrode surface potential difference\n",
      "\t- X-averaged positive electrode surface potential difference\n",
      "\t- Positive electrode surface potential difference [V]\n",
      "\t- X-averaged positive electrode surface potential difference [V]\n",
      "\t- Positive electrode open circuit potential\n",
      "\t- Positive electrode open circuit potential [V]\n",
      "\t- X-averaged positive electrode open circuit potential\n",
      "\t- X-averaged positive electrode open circuit potential [V]\n",
      "\t- Positive electrode entropic change\n",
      "\t- X-averaged positive electrode entropic change\n",
      "\t- Interfacial current density\n",
      "\t- Interfacial current density [A.m-2]\n",
      "\t- Interfacial current density per volume [A.m-3]\n",
      "\t- Exchange current density\n",
      "\t- Exchange current density [A.m-2]\n",
      "\t- Exchange current density per volume [A.m-3]\n",
      "\t- Negative particle flux\n",
      "\t- X-averaged negative particle flux\n",
      "\t- Positive particle flux\n",
      "\t- X-averaged positive particle flux\n",
      "\t- Negative electrode potential\n",
      "\t- Negative electrode potential [V]\n",
      "\t- X-averaged negative electrode potential\n",
      "\t- X-averaged negative electrode potential [V]\n",
      "\t- Negative electrode ohmic losses\n",
      "\t- Negative electrode ohmic losses [V]\n",
      "\t- X-averaged negative electrode ohmic losses\n",
      "\t- X-averaged negative electrode ohmic losses [V]\n",
      "\t- Gradient of negative electrode potential\n",
      "\t- Negative electrode current density\n",
      "\t- Negative electrode current density [A.m-2]\n",
      "\t- Negative electrolyte potential\n",
      "\t- Negative electrolyte potential [V]\n",
      "\t- Separator electrolyte potential\n",
      "\t- Separator electrolyte potential [V]\n",
      "\t- Positive electrolyte potential\n",
      "\t- Positive electrolyte potential [V]\n",
      "\t- Electrolyte potential\n",
      "\t- Electrolyte potential [V]\n",
      "\t- X-averaged electrolyte potential\n",
      "\t- X-averaged electrolyte potential [V]\n",
      "\t- X-averaged negative electrolyte potential\n",
      "\t- X-averaged negative electrolyte potential [V]\n",
      "\t- X-averaged separator electrolyte potential\n",
      "\t- X-averaged separator electrolyte potential [V]\n",
      "\t- X-averaged positive electrolyte potential\n",
      "\t- X-averaged positive electrolyte potential [V]\n",
      "\t- X-averaged electrolyte overpotential\n",
      "\t- X-averaged electrolyte overpotential [V]\n",
      "\t- Gradient of negative electrolyte potential\n",
      "\t- Gradient of separator electrolyte potential\n",
      "\t- Gradient of positive electrolyte potential\n",
      "\t- Gradient of electrolyte potential\n",
      "\t- Electrolyte current density\n",
      "\t- Electrolyte current density [A.m-2]\n",
      "\t- Negative electrolyte current density\n",
      "\t- Negative electrolyte current density [A.m-2]\n",
      "\t- Positive electrolyte current density\n",
      "\t- Positive electrolyte current density [A.m-2]\n",
      "\t- X-averaged concentration overpotential\n",
      "\t- X-averaged electrolyte ohmic losses\n",
      "\t- X-averaged concentration overpotential [V]\n",
      "\t- X-averaged electrolyte ohmic losses [V]\n",
      "\t- Positive electrode potential\n",
      "\t- Positive electrode potential [V]\n",
      "\t- X-averaged positive electrode potential\n",
      "\t- X-averaged positive electrode potential [V]\n",
      "\t- Positive electrode ohmic losses\n",
      "\t- Positive electrode ohmic losses [V]\n",
      "\t- X-averaged positive electrode ohmic losses\n",
      "\t- X-averaged positive electrode ohmic losses [V]\n",
      "\t- Gradient of positive electrode potential\n",
      "\t- Positive electrode current density\n",
      "\t- Positive electrode current density [A.m-2]\n",
      "\t- Electrode current density\n",
      "\t- Positive current collector potential\n",
      "\t- Ohmic heating\n",
      "\t- Ohmic heating [W.m-3]\n",
      "\t- Irreversible electrochemical heating\n",
      "\t- Irreversible electrochemical heating [W.m-3]\n",
      "\t- Reversible heating\n",
      "\t- Reversible heating [W.m-3]\n",
      "\t- Total heating\n",
      "\t- Total heating [W.m-3]\n",
      "\t- X-averaged total heating\n",
      "\t- X-averaged total heating [W.m-3]\n",
      "\t- Volume-averaged total heating\n",
      "\t- Volume-averaged total heating [W.m-3]\n",
      "\t- Positive current collector potential [V]\n",
      "\t- Local current collector potential difference\n",
      "\t- Local current collector potential difference [V]\n",
      "\t- X-averaged open circuit voltage\n",
      "\t- Measured open circuit voltage\n",
      "\t- X-averaged open circuit voltage [V]\n",
      "\t- Measured open circuit voltage [V]\n",
      "\t- X-averaged reaction overpotential\n",
      "\t- X-averaged reaction overpotential [V]\n",
      "\t- X-averaged solid phase ohmic losses\n",
      "\t- X-averaged solid phase ohmic losses [V]\n",
      "\t- Terminal voltage\n",
      "\t- Terminal voltage [V]\n",
      "\t- X-averaged battery open circuit voltage [V]\n",
      "\t- Measured battery open circuit voltage [V]\n",
      "\t- X-averaged battery reaction overpotential [V]\n",
      "\t- X-averaged battery solid phase ohmic losses [V]\n",
      "\t- X-averaged battery electrolyte ohmic losses [V]\n",
      "\t- X-averaged battery concentration overpotential [V]\n",
      "\t- Battery voltage [V]\n"
     ]
    }
   ],
   "source": [
    "print('SPM model variables:')\n",
    "for v in model.variables.keys():\n",
    "    print('\\t-',v)"
   ]
  },
  {
   "cell_type": "markdown",
   "metadata": {},
   "source": [
    "To help visualise the results, pybamm provides the `pybamm.ProcessedVariable` class, which takes the output of a solver and a variable, and allows the user to evaluate the value of that variable at any given time or $x$ value. For example, we can create a `pybamm.ProcessedVariable` using the SPM voltage variable, and plot the voltage versus time, along with the surface particle concentration."
   ]
  },
  {
   "cell_type": "code",
   "execution_count": 15,
   "metadata": {},
   "outputs": [],
   "source": [
    "voltage = pybamm.ProcessedVariable(model.variables['Terminal voltage [V]'], solution.t, solution.y, mesh=mesh)#\n",
    "c_s_n_surf = pybamm.ProcessedVariable(\n",
    "    model.variables['Negative particle surface concentration'], solution.t, solution.y, mesh=mesh\n",
    ")\n",
    "c_s_p_surf = pybamm.ProcessedVariable(\n",
    "    model.variables['Positive particle surface concentration'], solution.t, solution.y, mesh=mesh\n",
    ")"
   ]
  },
  {
   "cell_type": "markdown",
   "metadata": {},
   "source": [
    "One we have these variables in hand, we can begin generating plots using a library such as Matplotlib. Below we plot the terminal voltage and surface particle concentrations versus time"
   ]
  },
  {
   "cell_type": "code",
   "execution_count": 16,
   "metadata": {},
   "outputs": [
    {
     "data": {
      "image/png": "[encoded data removed]",
      "text/plain": [
       "<Figure size 936x288 with 3 Axes>"
      ]
     },
     "metadata": {
      "needs_background": "light"
     },
     "output_type": "display_data"
    }
   ],
   "source": [
    "t = np.linspace(0,1,250)\n",
    "f, (ax1, ax2, ax3) = plt.subplots(1, 3, figsize=(13,4))\n",
    "\n",
    "ax1.plot(solution.t, voltage(solution.t))\n",
    "ax1.set_xlabel(r'$t$')\n",
    "ax1.set_ylabel('Terminal voltage')\n",
    "\n",
    "ax2.plot(solution.t, c_s_n_surf(t=solution.t, x=0))\n",
    "ax2.set_xlabel(r'$t$')\n",
    "ax2.set_ylabel('Negative particle surface concentration')\n",
    "\n",
    "ax3.plot(solution.t, c_s_p_surf(t=solution.t, x=1))\n",
    "ax3.set_xlabel(r'$t$')\n",
    "ax3.set_ylabel('Positive particle surface concentration')\n",
    "\n",
    "plt.tight_layout()\n",
    "plt.show()"
   ]
  },
  {
   "cell_type": "markdown",
   "metadata": {},
   "source": [
    "Some of the output variables are defined over space as well as time. Once option to visualise these variables is to use the `interact` slider widget. Below we plot the negative/positive particle concentration over $r$, using a slider to change the current time point"
   ]
  },
  {
   "cell_type": "code",
   "execution_count": 17,
   "metadata": {},
   "outputs": [
    {
     "data": {
      "application/vnd.jupyter.widget-view+json": {
       "model_id": "0ff3a1563e0f45bdbe67f6838ecaab48",
       "version_major": 2,
       "version_minor": 0
      },
      "text/plain": [
       "interactive(children=(FloatSlider(value=0.0, description='t', max=0.17, step=0.01), Output()), _dom_classes=('…"
      ]
     },
     "metadata": {},
     "output_type": "display_data"
    }
   ],
   "source": [
    "c_s_n = pybamm.ProcessedVariable(model.variables['Negative particle concentration'], solution.t, solution.y, mesh=mesh)\n",
    "c_s_p = pybamm.ProcessedVariable(model.variables['Positive particle concentration'], solution.t, solution.y, mesh=mesh)\n",
    "r = np.linspace(0,1,100)\n",
    "\n",
    "def plot_concentrations(t):\n",
    "    f, (ax1, ax2) = plt.subplots(1, 2 ,figsize=(10,5))\n",
    "    plot_c_n, = ax1.plot(r, c_s_n_surf(x=r,t=t))\n",
    "    plot_c_p, = ax2.plot(r, c_s_p_surf(x=r,t=t))\n",
    "    ax1.set_ylabel('Negative particle concentration')\n",
    "    ax2.set_ylabel('Positive particle concentration')\n",
    "    ax1.set_xlabel(r'$r_n$')\n",
    "    ax2.set_xlabel(r'$r_p$')\n",
    "    ax1.set_ylim(0, 1)\n",
    "    ax2.set_ylim(0, 1)\n",
    "    plt.show()\n",
    "    \n",
    "import ipywidgets as widgets\n",
    "widgets.interact(plot_concentrations, t=widgets.FloatSlider(min=0,max=0.17,step=0.01,value=0));\n"
   ]
  },
  {
   "cell_type": "markdown",
   "metadata": {},
   "source": [
    "The QuickPlot class can be used to plot the common set of useful outputs which should give you a good initial overview of the model. The method Quickplot.plot(t) is simply a function like plot_concentrations(t) above. We can therefore either use it statically for a particularl t or employ the slider widget.  "
   ]
  },
  {
   "cell_type": "code",
   "execution_count": 18,
   "metadata": {},
   "outputs": [
    {
     "data": {
      "application/vnd.jupyter.widget-view+json": {
       "model_id": "ba068df354c2496d95915645646fbb20",
       "version_major": 2,
       "version_minor": 0
      },
      "text/plain": [
       "interactive(children=(FloatSlider(value=0.0, description='t', max=1.0850295540089985, step=0.05), Output()), _…"
      ]
     },
     "metadata": {},
     "output_type": "display_data"
    }
   ],
   "source": [
    "quick_plot = pybamm.QuickPlot(model, mesh, solution)\n",
    "widgets.interact(quick_plot.plot, t=widgets.FloatSlider(min=0,max=quick_plot.max_t,step=0.05,value=0));"
   ]
  },
  {
   "cell_type": "markdown",
   "metadata": {},
   "source": [
    "## Dimensionless Parameters"
   ]
  },
  {
   "cell_type": "markdown",
   "metadata": {},
   "source": [
    "In the table below, we provide the dimensionless parameters in the SPM in terms of the dimensional parameters in LCO.csv. We use a superscript * to indicate dimensional quanitities. \n",
    "\n",
    "| Parameter                 | Expression                              |Interpretation                             |\n",
    "|:--------------------------|:----------------------------------------|:------------------------------------------|\n",
    "| $L_{\\text{k}}$            | $L_{\\text{k}}^*/L^*$                    | Ratio of region thickness to cell thickness|\n",
    "|$\\mathcal{C}_{\\text{k}}$   | $\\tau_{\\text{k}}^*/\\tau_{\\text{d}}^*$   | Ratio of solid diffusion and discharge timescales |\n",
    "|$\\mathcal{C}_{\\text{r,k}}$ |$\\tau_{\\text{r,k}}^*/\\tau_{\\text{d}}^*$  |Ratio of reaction and discharge timescales|\n",
    "|$a_{\\text{k}}$             |$a_{\\text{k}}^* R_{\\text{k}}^*$          | Product of particle radius and surface area density|\n",
    "|$\\gamma_{\\text{k}}$        |$c_{\\text{k,max}}^*/c_{\\text{n,max}}^*$  |Ratio of maximum lithium concentrations in solid|"
   ]
  },
  {
   "cell_type": "code",
   "execution_count": null,
   "metadata": {},
   "outputs": [],
   "source": []
  }
 ],
 "metadata": {
  "kernelspec": {
   "display_name": "Python 3",
   "language": "python",
   "name": "python3"
  },
  "language_info": {
   "codemirror_mode": {
    "name": "ipython",
    "version": 3
   },
   "file_extension": ".py",
   "mimetype": "text/x-python",
   "name": "python",
   "nbconvert_exporter": "python",
   "pygments_lexer": "ipython3",
   "version": "3.6.8"
  }
 },
 "nbformat": 4,
 "nbformat_minor": 2
}
