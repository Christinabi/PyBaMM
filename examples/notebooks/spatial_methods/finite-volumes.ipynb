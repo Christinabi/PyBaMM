{
 "cells": [
  {
   "cell_type": "markdown",
   "metadata": {},
   "source": [
    "# Finite Volume Discretisation"
   ]
  },
  {
   "cell_type": "markdown",
   "metadata": {},
   "source": [
    "In this notebook, we explain the discretisation process that converts an expression tree, representing a model, to a linear algebra tree that can be evaluated by the solvers. \n",
    "\n",
    "We use Finite Volumes as an example of a spatial method, since it is the default spatial method for most PyBaMM models. This is a good spatial method for battery problems as it is conservative: for lithium-ion battery models, we can be sure that the total amount of lithium in the system is constant. For more details on the Finite Volume method, see [Randall Leveque's book](https://books.google.co.uk/books/about/Finite_Volume_Methods_for_Hyperbolic_Pro.html?id=QazcnD7GUoUC&printsec=frontcover&source=kp_read_button&redir_esc=y#v=onepage&q&f=false).\n",
    "\n",
    "This notebook is structured as follows:\n",
    "\n",
    "1. **Setting up a discretisation**. Overview of the parameters that are passed to the discretisation\n",
    "2. **Discretisations and spatial methods**. Operations that are common to most spatial methods:\n",
    "    - Discretising a spatial variable (e.g. $x$)\n",
    "    - Discretising a variable (e.g. concentration)\n",
    "3. **Example: Finite Volume operators**. Finite Volume implementation of some useful operators: \n",
    "    - Gradient operator\n",
    "    - Divergence operator\n",
    "    - Integral operator\n",
    "4. **Example: Discretising a simple model**. Setting up and solving a simple model, using Finite Volumes as the spatial method\n",
    "\n",
    "To find out how to implement a new spatial method, see the [tutorial](https://pybamm.readthedocs.io/en/latest/tutorials/add-spatial-method.html) in the API docs."
   ]
  },
  {
   "cell_type": "markdown",
   "metadata": {},
   "source": [
    "## Setting up a Discretisation"
   ]
  },
  {
   "cell_type": "markdown",
   "metadata": {},
   "source": [
    "We first import `pybamm` and some useful other modules, and change our working directory to the root of the `PyBaMM` folder:"
   ]
  },
  {
   "cell_type": "code",
   "execution_count": 1,
   "metadata": {},
   "outputs": [],
   "source": [
    "%matplotlib inline\n",
    "import pybamm\n",
    "import numpy as np\n",
    "import os\n",
    "import matplotlib.pyplot as plt\n",
    "from pprint import pprint\n",
    "os.chdir(pybamm.__path__[0]+'/..')"
   ]
  },
  {
   "cell_type": "markdown",
   "metadata": {},
   "source": [
    "To set up a discretisation, we must create a geometry, mesh this geometry, and then create the discretisation with the appropriate spatial method(s). The easiest way to create a geometry is to use an inbuilt one:"
   ]
  },
  {
   "cell_type": "code",
   "execution_count": 2,
   "metadata": {},
   "outputs": [],
   "source": [
    "parameter_values = pybamm.ParameterValues(\n",
    "    base_parameters={\n",
    "        \"Negative electrode width\": 0.3,\n",
    "        \"Separator width\": 0.2,\n",
    "        \"Positive electrode width\": 0.3,\n",
    "    }\n",
    ")\n",
    "\n",
    "geometry = pybamm.Geometry(\"1D macro\", \"1D micro\")\n",
    "parameter_values.process_geometry(geometry)"
   ]
  },
  {
   "cell_type": "markdown",
   "metadata": {},
   "source": [
    "We then use this geometry to create a mesh, which for this example consists of uniform 1D submeshes"
   ]
  },
  {
   "cell_type": "code",
   "execution_count": 3,
   "metadata": {},
   "outputs": [],
   "source": [
    "submesh_types = {\n",
    "    \"negative electrode\": pybamm.Uniform1DSubMesh,\n",
    "    \"separator\": pybamm.Uniform1DSubMesh,\n",
    "    \"positive electrode\": pybamm.Uniform1DSubMesh,\n",
    "    \"negative particle\": pybamm.Uniform1DSubMesh,\n",
    "    \"positive particle\": pybamm.Uniform1DSubMesh,\n",
    "}\n",
    "\n",
    "var = pybamm.standard_spatial_vars\n",
    "var_pts = {var.x_n: 15, var.x_s: 10, var.x_p: 15, var.r_n: 10, var.r_p: 10}\n",
    "mesh = pybamm.Mesh(geometry, submesh_types, var_pts)"
   ]
  },
  {
   "cell_type": "markdown",
   "metadata": {},
   "source": [
    "Finally, we can use the mesh to create a discretisation, using Finite Volumes as the spatial method for this example"
   ]
  },
  {
   "cell_type": "code",
   "execution_count": 4,
   "metadata": {},
   "outputs": [],
   "source": [
    "spatial_methods = {\n",
    "    \"macroscale\": pybamm.FiniteVolume,\n",
    "    \"negative particle\": pybamm.FiniteVolume,\n",
    "    \"positive particle\": pybamm.FiniteVolume,\n",
    "}\n",
    "disc = pybamm.Discretisation(mesh, spatial_methods)"
   ]
  },
  {
   "cell_type": "markdown",
   "metadata": {},
   "source": [
    "## Discretisations and Spatial Methods"
   ]
  },
  {
   "cell_type": "markdown",
   "metadata": {},
   "source": [
    "### Spatial Variables"
   ]
  },
  {
   "cell_type": "markdown",
   "metadata": {},
   "source": [
    "Spatial variables, such as $x$ and $r$, are converted to `pybamm.Vector` nodes"
   ]
  },
  {
   "cell_type": "code",
   "execution_count": 5,
   "metadata": {},
   "outputs": [
    {
     "name": "stdout",
     "output_type": "stream",
     "text": [
      "x_disc is a <class 'pybamm.expression_tree.vector.Vector'>\n",
      "r_disc is a <class 'pybamm.expression_tree.vector.Vector'>\n"
     ]
    },
    {
     "data": {
      "image/png": "[encoded data removed]",
      "text/plain": [
       "<Figure size 936x288 with 2 Axes>"
      ]
     },
     "metadata": {
      "needs_background": "light"
     },
     "output_type": "display_data"
    }
   ],
   "source": [
    "# Set up \n",
    "macroscale = [\"negative electrode\", \"separator\", \"positive electrode\"]\n",
    "x_var = pybamm.SpatialVariable(\"x\", domain=macroscale)\n",
    "r_var = pybamm.SpatialVariable(\"r\", domain=[\"negative particle\"])\n",
    "\n",
    "# Discretise\n",
    "x_disc = disc.process_symbol(x_var)\n",
    "r_disc = disc.process_symbol(r_var)\n",
    "print(\"x_disc is a {}\".format(type(x_disc)))\n",
    "print(\"r_disc is a {}\".format(type(r_disc)))\n",
    "\n",
    "# Evaluate\n",
    "x = x_disc.evaluate()\n",
    "r = r_disc.evaluate()\n",
    "\n",
    "f, (ax1, ax2) = plt.subplots(1, 2, figsize=(13,4))\n",
    "\n",
    "ax1.plot(x, \"*\")\n",
    "ax1.set_xlabel(\"index\")\n",
    "ax1.set_ylabel(r\"$x$\")\n",
    "\n",
    "ax2.plot(r, \"*\")\n",
    "ax2.set_xlabel(\"index\")\n",
    "ax2.set_ylabel(r\"$r$\")\n",
    "\n",
    "plt.tight_layout()\n",
    "plt.show()"
   ]
  },
  {
   "cell_type": "markdown",
   "metadata": {},
   "source": [
    "We define `y_macroscale`, `y_microscale` and `y_scalar` for evaluation and visualisation of results below"
   ]
  },
  {
   "cell_type": "code",
   "execution_count": 6,
   "metadata": {},
   "outputs": [],
   "source": [
    "y_macroscale = x ** 3 / 3\n",
    "y_microscale = np.cos(r)\n",
    "y_scalar = np.array([5])\n",
    "\n",
    "y = np.concatenate([y_macroscale, y_microscale, y_scalar])"
   ]
  },
  {
   "cell_type": "markdown",
   "metadata": {},
   "source": [
    "### Variables"
   ]
  },
  {
   "cell_type": "markdown",
   "metadata": {},
   "source": [
    "In this notebook, we will work with three variables `u`, `v`, `w`."
   ]
  },
  {
   "cell_type": "code",
   "execution_count": 7,
   "metadata": {},
   "outputs": [],
   "source": [
    "u = pybamm.Variable(\"u\", domain=macroscale) # u is a variable in the macroscale (e.g. electrolyte potential)\n",
    "v = pybamm.Variable(\"v\", domain=[\"negative particle\"]) # v is a variable in the negative particle (e.g. particle concentration)\n",
    "w = pybamm.Variable(\"w\") # w is a variable without a domain (e.g. time, average concentration)\n",
    "\n",
    "variables = [u,v,w]"
   ]
  },
  {
   "cell_type": "markdown",
   "metadata": {},
   "source": [
    "Before discretising, trying to evaluate the variables raises a `NotImplementedError`:"
   ]
  },
  {
   "cell_type": "code",
   "execution_count": 8,
   "metadata": {
    "tags": [
     "raises-exception"
    ]
   },
   "outputs": [
    {
     "ename": "NotImplementedError",
     "evalue": "method self.evaluate() not implemented\n               for symbol u of type <class 'pybamm.expression_tree.variable.Variable'>",
     "output_type": "error",
     "traceback": [
      "\u001b[0;31m---------------------------------------------------------------------------\u001b[0m",
      "\u001b[0;31mNotImplementedError\u001b[0m                       Traceback (most recent call last)",
      "\u001b[0;32m<ipython-input-8-98992ee131c6>\u001b[0m in \u001b[0;36m<module>\u001b[0;34m\u001b[0m\n\u001b[0;32m----> 1\u001b[0;31m \u001b[0mu\u001b[0m\u001b[0;34m.\u001b[0m\u001b[0mevaluate\u001b[0m\u001b[0;34m(\u001b[0m\u001b[0;34m)\u001b[0m\u001b[0;34m\u001b[0m\u001b[0;34m\u001b[0m\u001b[0m\n\u001b[0m",
      "\u001b[0;32m~/Documents/Batteries/PyBaMM/pybamm/expression_tree/symbol.py\u001b[0m in \u001b[0;36mevaluate\u001b[0;34m(self, t, y, known_evals)\u001b[0m\n\u001b[1;32m    404\u001b[0m             \u001b[0;32mreturn\u001b[0m \u001b[0mknown_evals\u001b[0m\u001b[0;34m[\u001b[0m\u001b[0mself\u001b[0m\u001b[0;34m.\u001b[0m\u001b[0mid\u001b[0m\u001b[0;34m]\u001b[0m\u001b[0;34m,\u001b[0m \u001b[0mknown_evals\u001b[0m\u001b[0;34m\u001b[0m\u001b[0;34m\u001b[0m\u001b[0m\n\u001b[1;32m    405\u001b[0m         \u001b[0;32melse\u001b[0m\u001b[0;34m:\u001b[0m\u001b[0;34m\u001b[0m\u001b[0;34m\u001b[0m\u001b[0m\n\u001b[0;32m--> 406\u001b[0;31m             \u001b[0;32mreturn\u001b[0m \u001b[0mself\u001b[0m\u001b[0;34m.\u001b[0m\u001b[0m_base_evaluate\u001b[0m\u001b[0;34m(\u001b[0m\u001b[0mt\u001b[0m\u001b[0;34m,\u001b[0m \u001b[0my\u001b[0m\u001b[0;34m)\u001b[0m\u001b[0;34m\u001b[0m\u001b[0;34m\u001b[0m\u001b[0m\n\u001b[0m\u001b[1;32m    407\u001b[0m \u001b[0;34m\u001b[0m\u001b[0m\n\u001b[1;32m    408\u001b[0m     \u001b[0;32mdef\u001b[0m \u001b[0mis_constant\u001b[0m\u001b[0;34m(\u001b[0m\u001b[0mself\u001b[0m\u001b[0;34m)\u001b[0m\u001b[0;34m:\u001b[0m\u001b[0;34m\u001b[0m\u001b[0;34m\u001b[0m\u001b[0m\n",
      "\u001b[0;32m~/Documents/Batteries/PyBaMM/pybamm/expression_tree/symbol.py\u001b[0m in \u001b[0;36m_base_evaluate\u001b[0;34m(self, t, y)\u001b[0m\n\u001b[1;32m    373\u001b[0m             \"\"\"method self.evaluate() not implemented\n\u001b[1;32m    374\u001b[0m                for symbol {!s} of type {}\"\"\".format(\n\u001b[0;32m--> 375\u001b[0;31m                 \u001b[0mself\u001b[0m\u001b[0;34m,\u001b[0m \u001b[0mtype\u001b[0m\u001b[0;34m(\u001b[0m\u001b[0mself\u001b[0m\u001b[0;34m)\u001b[0m\u001b[0;34m\u001b[0m\u001b[0;34m\u001b[0m\u001b[0m\n\u001b[0m\u001b[1;32m    376\u001b[0m             )\n\u001b[1;32m    377\u001b[0m         )\n",
      "\u001b[0;31mNotImplementedError\u001b[0m: method self.evaluate() not implemented\n               for symbol u of type <class 'pybamm.expression_tree.variable.Variable'>"
     ]
    }
   ],
   "source": [
    "u.evaluate()"
   ]
  },
  {
   "cell_type": "markdown",
   "metadata": {},
   "source": [
    "For any spatial method, a `pybamm.Variable` gets converted to a `pybamm.StateVector` which, when evaluated, takes the appropriate slice of the input vector `y`. "
   ]
  },
  {
   "cell_type": "code",
   "execution_count": 9,
   "metadata": {},
   "outputs": [
    {
     "name": "stdout",
     "output_type": "stream",
     "text": [
      "Discretised u is the StateVector y[0:40]\n",
      "Discretised v is the StateVector y[40:50]\n",
      "Discretised w is the StateVector y[50:51]\n"
     ]
    }
   ],
   "source": [
    "# Pass the list of variables to the discretisation to calculate the slices to be used (order matters here!)\n",
    "disc.set_variable_slices(variables)\n",
    "\n",
    "# Discretise the variables\n",
    "u_disc = disc.process_symbol(u)\n",
    "v_disc = disc.process_symbol(v)\n",
    "w_disc = disc.process_symbol(w)\n",
    "\n",
    "# Print the outcome \n",
    "print(\"Discretised u is the StateVector {}\".format(u_disc))\n",
    "print(\"Discretised v is the StateVector {}\".format(v_disc))\n",
    "print(\"Discretised w is the StateVector {}\".format(w_disc))"
   ]
  },
  {
   "cell_type": "markdown",
   "metadata": {},
   "source": [
    "Since the variables have been passed to `disc` in the order `[u,v,w]`, they each read the appropriate part of `y` when evaluated:"
   ]
  },
  {
   "cell_type": "code",
   "execution_count": 10,
   "metadata": {},
   "outputs": [
    {
     "data": {
      "image/png": "[encoded data removed]",
      "text/plain": [
       "<Figure size 936x288 with 2 Axes>"
      ]
     },
     "metadata": {
      "needs_background": "light"
     },
     "output_type": "display_data"
    }
   ],
   "source": [
    "x_fine = np.linspace(x[0], x[-1], 1000)\n",
    "r_fine = np.linspace(r[0], r[-1], 1000)\n",
    "\n",
    "fig, (ax1, ax2) = plt.subplots(1, 2, figsize=(13,4))\n",
    "ax1.plot(x_fine, x_fine**3/3, x, u_disc.evaluate(y=y), \"o\")\n",
    "ax1.set_xlabel(\"x\")\n",
    "ax1.legend([\"x^3/3\", \"u\"], loc=\"best\")\n",
    "\n",
    "ax2.plot(r_fine, np.cos(r_fine), r, v_disc.evaluate(y=y), \"o\")\n",
    "ax2.set_xlabel(\"r\")\n",
    "ax2.legend([\"cos(r)\", \"v\"], loc=\"best\")\n",
    "\n",
    "plt.tight_layout()\n",
    "plt.show()"
   ]
  },
  {
   "cell_type": "code",
   "execution_count": 11,
   "metadata": {},
   "outputs": [
    {
     "name": "stdout",
     "output_type": "stream",
     "text": [
      "w = [5.]\n"
     ]
    }
   ],
   "source": [
    "print(\"w = {}\".format(w_disc.evaluate(y=y)))"
   ]
  },
  {
   "cell_type": "markdown",
   "metadata": {},
   "source": [
    "## Finite Volume Operators"
   ]
  },
  {
   "cell_type": "markdown",
   "metadata": {},
   "source": [
    "### Gradient operator\n",
    "\n",
    "The gradient operator is converted to a Matrix-StateVector multiplication. In 1D, the gradient operator is equivalent to $\\partial/\\partial x$ on the macroscale and $\\partial/\\partial r$ on the microscale. In Finite Volumes, we take the gradient of an object on nodes (shape (n,)), which returns an object on the edges (shape (n-1,)). "
   ]
  },
  {
   "cell_type": "code",
   "execution_count": 12,
   "metadata": {},
   "outputs": [
    {
     "name": "stdout",
     "output_type": "stream",
     "text": [
      "@\n",
      "├── Sparse Matrix (39, 40)\n",
      "└── y[0:40]\n"
     ]
    }
   ],
   "source": [
    "grad_u = pybamm.grad(u)\n",
    "grad_u_disc = disc.process_symbol(grad_u)\n",
    "grad_u_disc.render()"
   ]
  },
  {
   "cell_type": "markdown",
   "metadata": {},
   "source": [
    "The Matrix in `grad_u_disc` is the standard `[-1,1]` sparse matrix, divided by the step sizes `dx`:"
   ]
  },
  {
   "cell_type": "code",
   "execution_count": 13,
   "metadata": {},
   "outputs": [
    {
     "name": "stdout",
     "output_type": "stream",
     "text": [
      "gradient matrix is:\n",
      "\n",
      "1/dx *\n",
      "[[-1.  1.  0. ...  0.  0.  0.]\n",
      " [ 0. -1.  1. ...  0.  0.  0.]\n",
      " [ 0.  0. -1. ...  0.  0.  0.]\n",
      " ...\n",
      " [ 0.  0.  0. ...  1.  0.  0.]\n",
      " [ 0.  0.  0. ... -1.  1.  0.]\n",
      " [ 0.  0.  0. ...  0. -1.  1.]]\n"
     ]
    }
   ],
   "source": [
    "macro_mesh = mesh.combine_submeshes(*macroscale)[0]\n",
    "print(\"gradient matrix is:\\n\")\n",
    "print(\"1/dx *\\n{}\".format(macro_mesh.d_nodes[:,np.newaxis] * grad_u_disc.children[0].entries.toarray()))"
   ]
  },
  {
   "cell_type": "markdown",
   "metadata": {},
   "source": [
    "When evaluated with `y_macroscale=x**3/3`, `grad_u_disc` is equal to `x**2` as expected:"
   ]
  },
  {
   "cell_type": "code",
   "execution_count": 14,
   "metadata": {},
   "outputs": [
    {
     "data": {
      "image/png": "[encoded data removed]",
      "text/plain": [
       "<Figure size 432x288 with 1 Axes>"
      ]
     },
     "metadata": {
      "needs_background": "light"
     },
     "output_type": "display_data"
    }
   ],
   "source": [
    "x_edge = macro_mesh.edges[1:-1] # note that grad_u_disc is evaluated on the node edges\n",
    "\n",
    "fig, ax = plt.subplots()\n",
    "ax.plot(x_fine, x_fine**2, x_edge, grad_u_disc.evaluate(y=y), \"o\")\n",
    "ax.set_xlabel(\"x\")\n",
    "legend = ax.legend([\"x^2\", \"grad(u).evaluate(y=x**3/3)\"], loc=\"best\")\n",
    "\n",
    "plt.show()"
   ]
  },
  {
   "cell_type": "markdown",
   "metadata": {},
   "source": [
    "Similary, we can create, discretise and evaluate the gradient of `v`, which is a variable in the negative particles. Note that the syntax for doing this is identical: we do not need to explicitly specify that we want the gradient in `r`, since this is inferred from the `domain` of `v`."
   ]
  },
  {
   "cell_type": "code",
   "execution_count": 15,
   "metadata": {},
   "outputs": [
    {
     "name": "stdout",
     "output_type": "stream",
     "text": [
      "grad(v) tree is:\n",
      "\n",
      "@\n",
      "├── Sparse Matrix (9, 10)\n",
      "└── y[40:50]\n",
      "\n",
      " gradient matrix is:\n",
      "\n",
      "1/dr *\n",
      "[[-1.  1.  0.  0.  0.  0.  0.  0.  0.  0.]\n",
      " [ 0. -1.  1.  0.  0.  0.  0.  0.  0.  0.]\n",
      " [ 0.  0. -1.  1.  0.  0.  0.  0.  0.  0.]\n",
      " [ 0.  0.  0. -1.  1.  0.  0.  0.  0.  0.]\n",
      " [ 0.  0.  0.  0. -1.  1.  0.  0.  0.  0.]\n",
      " [ 0.  0.  0.  0.  0. -1.  1.  0.  0.  0.]\n",
      " [ 0.  0.  0.  0.  0.  0. -1.  1.  0.  0.]\n",
      " [ 0.  0.  0.  0.  0.  0.  0. -1.  1.  0.]\n",
      " [ 0.  0.  0.  0.  0.  0.  0.  0. -1.  1.]]\n"
     ]
    },
    {
     "data": {
      "image/png": "[encoded data removed]",
      "text/plain": [
       "<Figure size 432x288 with 1 Axes>"
      ]
     },
     "metadata": {
      "needs_background": "light"
     },
     "output_type": "display_data"
    }
   ],
   "source": [
    "grad_v = pybamm.grad(v)\n",
    "grad_v_disc = disc.process_symbol(grad_v)\n",
    "print(\"grad(v) tree is:\\n\")\n",
    "grad_v_disc.render()\n",
    "\n",
    "micro_mesh = mesh[\"negative particle\"][0]\n",
    "print(\"\\n gradient matrix is:\\n\")\n",
    "print(\"1/dr *\\n{}\".format(micro_mesh.d_nodes[:,np.newaxis] * grad_v_disc.children[0].entries.toarray()))\n",
    "\n",
    "r_edge = micro_mesh.edges[1:-1] # note that grad_u_disc is evaluated on the node edges\n",
    "\n",
    "fig, ax = plt.subplots()\n",
    "ax.plot(r_fine, -np.sin(r_fine), r_edge, grad_v_disc.evaluate(y=y), \"o\")\n",
    "ax.set_xlabel(\"x\")\n",
    "legend = ax.legend([\"-sin(r)\", \"grad(v).evaluate(y=cos(r))\"], loc=\"best\")\n",
    "\n",
    "plt.show()"
   ]
  },
  {
   "cell_type": "markdown",
   "metadata": {},
   "source": [
    "### Divergence operator"
   ]
  },
  {
   "cell_type": "markdown",
   "metadata": {},
   "source": [
    "Before computing the Divergence operator, we set up Neumann boundary conditions. Dirichlet boundary conditions are more complicated to implement and will not be covered in this notebook."
   ]
  },
  {
   "cell_type": "code",
   "execution_count": 16,
   "metadata": {},
   "outputs": [],
   "source": [
    "disc._bcs = {grad_u.id: {\"left\": pybamm.Scalar(-1), \"right\": pybamm.Scalar(1)}}"
   ]
  },
  {
   "cell_type": "markdown",
   "metadata": {},
   "source": [
    "Now we can process `div(grad(u))`, converting it to a Matrix-Vector multiplication, plus a vector for the boundary conditions. Since we have Neumann boundary conditions, the divergence of an object of size (n,) has size (n+1,)."
   ]
  },
  {
   "cell_type": "code",
   "execution_count": 17,
   "metadata": {},
   "outputs": [
    {
     "name": "stdout",
     "output_type": "stream",
     "text": [
      "+\n",
      "├── @\n",
      "│   ├── Sparse Matrix (40, 39)\n",
      "│   └── @\n",
      "│       ├── Sparse Matrix (39, 40)\n",
      "│       └── y[0:40]\n",
      "└── numpy concatenation\n",
      "    ├── Vector of length 0\n",
      "    ├── /\n",
      "    │   ├── -\n",
      "    │   │   └── -1.0\n",
      "    │   └── Vector of length 1\n",
      "    ├── Vector of length 38\n",
      "    └── /\n",
      "        ├── 1.0\n",
      "        └── Vector of length 1\n"
     ]
    }
   ],
   "source": [
    "div_grad_u = pybamm.div(grad_u)\n",
    "div_grad_u_disc = disc.process_symbol(div_grad_u)\n",
    "div_grad_u_disc.render()"
   ]
  },
  {
   "cell_type": "markdown",
   "metadata": {},
   "source": [
    "Once again, in 1D, the divergence matrix is a `[-1,1]` matrix (divided by the distance between the edges)"
   ]
  },
  {
   "cell_type": "code",
   "execution_count": 18,
   "metadata": {},
   "outputs": [
    {
     "name": "stdout",
     "output_type": "stream",
     "text": [
      "divergence matrix is:\n",
      "\n",
      "1/dx * \n",
      "[[ 1.  0.  0. ...  0.  0.  0.]\n",
      " [-1.  1.  0. ...  0.  0.  0.]\n",
      " [ 0. -1.  1. ...  0.  0.  0.]\n",
      " ...\n",
      " [ 0.  0.  0. ... -1.  1.  0.]\n",
      " [ 0.  0.  0. ...  0. -1.  1.]\n",
      " [ 0.  0.  0. ...  0.  0. -1.]]\n"
     ]
    }
   ],
   "source": [
    "print(\"divergence matrix is:\\n\")\n",
    "print(\"1/dx * \\n{}\".format(\n",
    "    macro_mesh.d_edges[:,np.newaxis] * div_grad_u_disc.children[0].children[0].entries.toarray()\n",
    "))"
   ]
  },
  {
   "cell_type": "markdown",
   "metadata": {},
   "source": [
    "The only non-zero entries in the vector of boundary conditions are the first and last:"
   ]
  },
  {
   "cell_type": "code",
   "execution_count": 19,
   "metadata": {},
   "outputs": [
    {
     "data": {
      "text/plain": [
       "array([40.,  0.,  0.,  0.,  0.,  0.,  0.,  0.,  0.,  0.,  0.,  0.,  0.,\n",
       "        0.,  0.,  0.,  0.,  0.,  0.,  0.,  0.,  0.,  0.,  0.,  0.,  0.,\n",
       "        0.,  0.,  0.,  0.,  0.,  0.,  0.,  0.,  0.,  0.,  0.,  0.,  0.,\n",
       "       40.])"
      ]
     },
     "execution_count": 19,
     "metadata": {},
     "output_type": "execute_result"
    }
   ],
   "source": [
    "div_grad_u_disc.children[1].evaluate(y=y)"
   ]
  },
  {
   "cell_type": "markdown",
   "metadata": {},
   "source": [
    "We can simplify `div_grad_u_disc`, to collapse the two `[-1,1]` matrices into a single `[1,-2,1]` matrix. The vector of boundary conditions is also simplified."
   ]
  },
  {
   "cell_type": "code",
   "execution_count": 20,
   "metadata": {},
   "outputs": [
    {
     "name": "stdout",
     "output_type": "stream",
     "text": [
      "+\n",
      "├── @\n",
      "│   ├── Sparse Matrix (40, 40)\n",
      "│   └── y[0:40]\n",
      "└── Vector of length 40\n"
     ]
    }
   ],
   "source": [
    "div_grad_u_disc_simp = div_grad_u_disc.simplify()\n",
    "div_grad_u_disc_simp.render()"
   ]
  },
  {
   "cell_type": "code",
   "execution_count": 21,
   "metadata": {},
   "outputs": [
    {
     "name": "stdout",
     "output_type": "stream",
     "text": [
      "laplacian matrix is:\n",
      "\n",
      "1/dx^2 *\n",
      "[[-1.  1.  0. ...  0.  0.  0.]\n",
      " [ 1. -2.  1. ...  0.  0.  0.]\n",
      " [ 0.  1. -2. ...  0.  0.  0.]\n",
      " ...\n",
      " [ 0.  0.  0. ... -2.  1.  0.]\n",
      " [ 0.  0.  0. ...  1. -2.  1.]\n",
      " [ 0.  0.  0. ...  0.  1. -1.]]\n"
     ]
    }
   ],
   "source": [
    "print(\"laplacian matrix is:\\n\")\n",
    "print(\"1/dx^2 *\\n{}\".format(\n",
    "    macro_mesh.d_edges[:,np.newaxis] ** 2 * div_grad_u_disc_simp.children[0].children[0].entries.toarray()\n",
    "))"
   ]
  },
  {
   "cell_type": "markdown",
   "metadata": {},
   "source": [
    "Simplifying the tree reduces the time taken to evaluate it:"
   ]
  },
  {
   "cell_type": "code",
   "execution_count": 22,
   "metadata": {},
   "outputs": [
    {
     "name": "stdout",
     "output_type": "stream",
     "text": [
      "59.9 µs ± 2.6 µs per loop (mean ± std. dev. of 7 runs, 10000 loops each)\n"
     ]
    }
   ],
   "source": [
    "%timeit div_grad_u_disc.evaluate(y=y)"
   ]
  },
  {
   "cell_type": "code",
   "execution_count": 23,
   "metadata": {},
   "outputs": [
    {
     "name": "stdout",
     "output_type": "stream",
     "text": [
      "21 µs ± 664 ns per loop (mean ± std. dev. of 7 runs, 10000 loops each)\n"
     ]
    }
   ],
   "source": [
    "%timeit div_grad_u_disc_simp.evaluate(y=y)"
   ]
  },
  {
   "cell_type": "markdown",
   "metadata": {},
   "source": [
    "### Integral operator"
   ]
  },
  {
   "cell_type": "markdown",
   "metadata": {},
   "source": [
    "Finally, we can define an integral operator, which integrates the variable across the domain specified by the integration variable."
   ]
  },
  {
   "cell_type": "code",
   "execution_count": 24,
   "metadata": {},
   "outputs": [
    {
     "name": "stdout",
     "output_type": "stream",
     "text": [
      "int(u) = 0.08330729166666667 is approximately equal to 1/12, 0.08333333333333333\n",
      "int(v/r) = 5.2893217367507805 is approximately equal to 2*pi*sin(1), 5.287118128162912\n"
     ]
    }
   ],
   "source": [
    "int_u = pybamm.Integral(u, x_var)\n",
    "int_u_disc = disc.process_symbol(int_u)\n",
    "print(\"int(u) = {} is approximately equal to 1/12, {}\".format(int_u_disc.evaluate(y=y), 1/12))\n",
    "\n",
    "# We divide v by r to evaluate the integral more easily\n",
    "int_v_over_r = pybamm.Integral(v/r_var, r_var)\n",
    "int_v_over_r_disc = disc.process_symbol(int_v_over_r)\n",
    "print(\"int(v/r) = {} is approximately equal to 2*pi*sin(1), {}\".format(\n",
    "    int_v_over_r_disc.evaluate(y=y), 2*np.pi*np.sin(1))\n",
    ")"
   ]
  },
  {
   "cell_type": "markdown",
   "metadata": {},
   "source": [
    "The integral operators are Vector-Vector dot products"
   ]
  },
  {
   "cell_type": "code",
   "execution_count": 25,
   "metadata": {},
   "outputs": [
    {
     "name": "stdout",
     "output_type": "stream",
     "text": [
      "int(u):\n",
      "\n",
      "@\n",
      "├── Vector of length 40\n",
      "└── y[0:40]\n",
      "\n",
      "int(v):\n",
      "\n",
      "@\n",
      "├── *\n",
      "│   ├── 6.283185307179586\n",
      "│   └── Vector of length 10\n",
      "└── *\n",
      "    ├── /\n",
      "    │   ├── y[40:50]\n",
      "    │   └── Vector of length 10\n",
      "    └── Vector of length 10\n"
     ]
    }
   ],
   "source": [
    "print(\"int(u):\\n\")\n",
    "int_u_disc.render()\n",
    "print(\"\\nint(v):\\n\")\n",
    "int_v_over_r_disc.render()"
   ]
  },
  {
   "cell_type": "code",
   "execution_count": 26,
   "metadata": {},
   "outputs": [
    {
     "data": {
      "text/plain": [
       "array([1., 1., 1., 1., 1., 1., 1., 1., 1., 1., 1., 1., 1., 1., 1., 1., 1.,\n",
       "       1., 1., 1., 1., 1., 1., 1., 1., 1., 1., 1., 1., 1., 1., 1., 1., 1.,\n",
       "       1., 1., 1., 1., 1., 1.])"
      ]
     },
     "execution_count": 26,
     "metadata": {},
     "output_type": "execute_result"
    }
   ],
   "source": [
    "int_u_disc.children[0].evaluate() / macro_mesh.d_edges"
   ]
  },
  {
   "cell_type": "code",
   "execution_count": 27,
   "metadata": {},
   "outputs": [
    {
     "data": {
      "text/plain": [
       "array([1., 1., 1., 1., 1., 1., 1., 1., 1., 1.])"
      ]
     },
     "execution_count": 27,
     "metadata": {},
     "output_type": "execute_result"
    }
   ],
   "source": [
    "int_v_over_r_disc.children[0].children[1].evaluate() / micro_mesh.d_edges"
   ]
  },
  {
   "cell_type": "markdown",
   "metadata": {},
   "source": [
    "## Discretising a model"
   ]
  },
  {
   "cell_type": "markdown",
   "metadata": {},
   "source": [
    "We can now discretise a whole model. We create, and discretise, a simple model for the concentration in the electrolyte and the concentration in the particles, and discretise it with a single command:\n",
    "```\n",
    "disc.process_model(model)\n",
    "```"
   ]
  },
  {
   "cell_type": "code",
   "execution_count": 28,
   "metadata": {},
   "outputs": [],
   "source": [
    "model = pybamm.BaseModel()\n",
    "\n",
    "c_e = pybamm.Variable(\"electrolyte concentration\", domain=macroscale)\n",
    "N_e = pybamm.grad(c_e)\n",
    "c_s = pybamm.Variable(\"particle concentration\", domain=[\"negative particle\"])\n",
    "N_s = pybamm.grad(c_s)\n",
    "model.rhs = {c_e: pybamm.div(N_e) - 5, c_s: pybamm.div(N_s)}\n",
    "model.boundary_conditions = {\n",
    "    N_e: {\"left\": np.cos(0), \"right\": np.cos(10)},\n",
    "    N_s: {\"left\": 0, \"right\": -1},\n",
    "}\n",
    "model.initial_conditions = {c_e: 1 + 0.1 * pybamm.Function(np.sin, 10*x_var), c_s: 1}\n",
    "\n",
    "# Create a new discretisation and process model\n",
    "disc2 = pybamm.Discretisation(mesh, spatial_methods)\n",
    "disc2.process_model(model)"
   ]
  },
  {
   "cell_type": "markdown",
   "metadata": {},
   "source": [
    "The initial conditions are discretised to vectors, and an array of concatenated initial conditions is created."
   ]
  },
  {
   "cell_type": "code",
   "execution_count": 29,
   "metadata": {},
   "outputs": [
    {
     "data": {
      "image/png": "[encoded data removed]",
      "text/plain": [
       "<Figure size 936x288 with 3 Axes>"
      ]
     },
     "metadata": {
      "needs_background": "light"
     },
     "output_type": "display_data"
    }
   ],
   "source": [
    "c_e_0 = model.initial_conditions[c_e].evaluate()\n",
    "c_s_0 = model.initial_conditions[c_s].evaluate()\n",
    "y0 = model.concatenated_initial_conditions\n",
    "\n",
    "fig, (ax1, ax2, ax3) = plt.subplots(1, 3, figsize=(13,4))\n",
    "ax1.plot(x_fine, 1 + 0.1*np.sin(10*x_fine), x, c_e_0, \"o\")\n",
    "ax1.set_xlabel(\"x\")\n",
    "ax1.legend([\"1+0.1*sin(10*x)\", \"c_e_0\"], loc=\"best\")\n",
    "\n",
    "ax2.plot(x_fine, np.ones_like(r_fine), r, c_s_0, \"o\")\n",
    "ax2.set_xlabel(\"r\")\n",
    "ax2.legend([\"1\", \"c_s_0\"], loc=\"best\")\n",
    "\n",
    "ax3.plot(y0,\"*\")\n",
    "ax3.set_xlabel(\"index\")\n",
    "ax3.set_ylabel(\"y0\")\n",
    "\n",
    "plt.tight_layout()\n",
    "plt.show()"
   ]
  },
  {
   "cell_type": "markdown",
   "metadata": {},
   "source": [
    "The discretised rhs can be evaluated, for example at `0,y0`:"
   ]
  },
  {
   "cell_type": "code",
   "execution_count": 30,
   "metadata": {},
   "outputs": [
    {
     "data": {
      "image/png": "[encoded data removed]",
      "text/plain": [
       "<Figure size 936x288 with 3 Axes>"
      ]
     },
     "metadata": {
      "needs_background": "light"
     },
     "output_type": "display_data"
    }
   ],
   "source": [
    "rhs_c_e = model.rhs[c_e].evaluate(0, y0)\n",
    "rhs_c_s = model.rhs[c_s].evaluate(0, y0)\n",
    "rhs = model.concatenated_rhs.evaluate(0, y0)\n",
    "\n",
    "fig, (ax1, ax2, ax3) = plt.subplots(1, 3, figsize=(13,4))\n",
    "# ax1.plot(x_fine, -10*np.sin(10*x_fine) - 5, x, rhs_c_e, \"o\")\n",
    "ax1.plot(x, rhs_c_e, \"o\")\n",
    "ax1.set_xlabel(\"x\")\n",
    "ax1.set_ylabel(\"rhs_c_e\")\n",
    "# ax1.legend([\"1+0.1*sin(10*x)\", \"c_e_0\"], loc=\"best\")\n",
    "\n",
    "ax2.plot(r, rhs_c_s, \"o\")\n",
    "ax2.set_xlabel(\"r\")\n",
    "ax2.set_ylabel(\"rhs_c_s\")\n",
    "\n",
    "ax3.plot(rhs,\"*\")\n",
    "ax3.set_xlabel(\"index\")\n",
    "ax3.set_ylabel(\"rhs\")\n",
    "\n",
    "plt.tight_layout()\n",
    "plt.show()"
   ]
  },
  {
   "cell_type": "markdown",
   "metadata": {},
   "source": [
    "The function `model.concatenated_rhs` is then passed to the solver to solve the model, with initial conditions `model.concatenated_initial_conditions`."
   ]
  },
  {
   "cell_type": "markdown",
   "metadata": {},
   "source": [
    "## More advanced concepts"
   ]
  },
  {
   "cell_type": "markdown",
   "metadata": {},
   "source": [
    "Since this notebook is only an introduction to the discretisation, we have not covered everything. More advanced concepts, such as the ones below, can be explored by looking into the [API docs](https://pybamm.readthedocs.io/en/latest/source/spatial_methods/finite_volume.html).\n",
    "\n",
    "- Gradient and divergence of microscale variables in the P2D model\n",
    "- Dirichlet boundary conditions\n",
    "- Indefinite integral\n",
    "\n",
    "If you would like detailed examples of these operations, please [create an issue](https://github.com/pybamm-team/PyBaMM/blob/master/CONTRIBUTING.md#a-before-you-begin) and we will be happy to help."
   ]
  }
 ],
 "metadata": {
  "kernelspec": {
   "display_name": "Python 3",
   "language": "python",
   "name": "python3"
  },
  "language_info": {
   "codemirror_mode": {
    "name": "ipython",
    "version": 3
   },
   "file_extension": ".py",
   "mimetype": "text/x-python",
   "name": "python",
   "nbconvert_exporter": "python",
   "pygments_lexer": "ipython3",
   "version": "3.6.7"
  }
 },
 "nbformat": 4,
 "nbformat_minor": 2
}
